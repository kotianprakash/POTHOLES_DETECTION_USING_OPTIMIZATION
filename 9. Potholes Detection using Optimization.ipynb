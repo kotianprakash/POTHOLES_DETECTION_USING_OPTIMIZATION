{
 "cells": [
  {
   "cell_type": "code",
   "execution_count": null,
   "metadata": {
    "id": "Jwr3BxBBEukm"
   },
   "outputs": [],
   "source": [
    "!pip install keras-tuner"
   ]
  },
  {
   "cell_type": "code",
   "execution_count": null,
   "metadata": {
    "colab": {
     "base_uri": "https://localhost:8080/"
    },
    "executionInfo": {
     "elapsed": 3131,
     "status": "ok",
     "timestamp": 1643518612874,
     "user": {
      "displayName": "devdatta trainings",
      "photoUrl": "https://lh3.googleusercontent.com/a/default-user=s64",
      "userId": "16964738642897968134"
     },
     "user_tz": -330
    },
    "id": "Q4NtKgwlFXlP",
    "outputId": "71cdad0f-476d-4941-9e17-5a38bbc5cee0"
   },
   "outputs": [
    {
     "name": "stdout",
     "output_type": "stream",
     "text": [
      "2.7.0\n"
     ]
    },
    {
     "name": "stderr",
     "output_type": "stream",
     "text": [
      "/usr/local/lib/python3.7/dist-packages/ipykernel_launcher.py:16: DeprecationWarning: `import kerastuner` is deprecated, please use `import keras_tuner`.\n",
      "  app.launch_new_instance()\n"
     ]
    }
   ],
   "source": [
    "# import the necessary packages\n",
    "from tensorflow.keras.models import Sequential\n",
    "from tensorflow.keras.layers import Conv2D\n",
    "from tensorflow.keras.layers import MaxPooling2D\n",
    "from tensorflow.keras.layers import Activation\n",
    "from tensorflow.keras.layers import Flatten\n",
    "from tensorflow.keras.layers import Dense\n",
    "from tensorflow.keras import backend as K\n",
    "from tensorflow.keras.preprocessing.image import ImageDataGenerator\n",
    "from tensorflow.keras.optimizers import Adam\n",
    "from tensorflow.keras.preprocessing.image import img_to_array\n",
    "from tensorflow.keras.utils import to_categorical\n",
    "from tensorflow.keras import regularizers\n",
    "from sklearn.model_selection import train_test_split\n",
    "\n",
    "from kerastuner import RandomSearch\n",
    "from kerastuner.engine.hyperparameters import HyperParameters\n",
    "\n",
    "from imutils import paths\n",
    "import matplotlib.pyplot as plt\n",
    "import numpy as np\n",
    "import argparse\n",
    "import random\n",
    "import cv2\n",
    "import os\n",
    "\n",
    "import warnings\n",
    "from tqdm import tqdm_notebook as tqdm\n",
    "import itertools\n",
    "\n",
    "import tensorflow as tf \n",
    "print(tf.__version__)\n",
    "warnings.filterwarnings(\"ignore\")\n",
    "SEED = 42   # set random seed"
   ]
  },
  {
   "cell_type": "code",
   "execution_count": null,
   "metadata": {
    "colab": {
     "base_uri": "https://localhost:8080/"
    },
    "executionInfo": {
     "elapsed": 18000,
     "status": "ok",
     "timestamp": 1643514447903,
     "user": {
      "displayName": "devdatta trainings",
      "photoUrl": "https://lh3.googleusercontent.com/a/default-user=s64",
      "userId": "16964738642897968134"
     },
     "user_tz": -330
    },
    "id": "cKksceOtFzr9",
    "outputId": "d1e1af18-4b21-4040-ae2c-5ed8c7f46640"
   },
   "outputs": [
    {
     "name": "stdout",
     "output_type": "stream",
     "text": [
      "Mounted at /content/drive\n"
     ]
    }
   ],
   "source": [
    "from google.colab import drive\n",
    "drive.mount('/content/drive')"
   ]
  },
  {
   "cell_type": "code",
   "execution_count": null,
   "metadata": {
    "colab": {
     "base_uri": "https://localhost:8080/"
    },
    "executionInfo": {
     "elapsed": 663,
     "status": "ok",
     "timestamp": 1643518619006,
     "user": {
      "displayName": "devdatta trainings",
      "photoUrl": "https://lh3.googleusercontent.com/a/default-user=s64",
      "userId": "16964738642897968134"
     },
     "user_tz": -330
    },
    "id": "oI9fohiEF_xq",
    "outputId": "50c7dd67-4916-4000-8263-d3178d9ae6d2"
   },
   "outputs": [
    {
     "name": "stdout",
     "output_type": "stream",
     "text": [
      "dataset  dataset.zip  Optimization.ipynb\n"
     ]
    }
   ],
   "source": [
    "import os\n",
    "os.chdir(\"/content/drive/MyDrive/PGAA08_Deep_Learning/Code Files/Untitled folder\")\n",
    "!dir"
   ]
  },
  {
   "cell_type": "code",
   "execution_count": null,
   "metadata": {
    "colab": {
     "base_uri": "https://localhost:8080/"
    },
    "executionInfo": {
     "elapsed": 3678,
     "status": "ok",
     "timestamp": 1643514540773,
     "user": {
      "displayName": "devdatta trainings",
      "photoUrl": "https://lh3.googleusercontent.com/a/default-user=s64",
      "userId": "16964738642897968134"
     },
     "user_tz": -330
    },
    "id": "wcfo_skEGX7B",
    "outputId": "d58756ab-b263-4fbd-8a5d-8929ebbf10ad"
   },
   "outputs": [
    {
     "name": "stdout",
     "output_type": "stream",
     "text": [
      "Collecting patool\n",
      "  Downloading patool-1.12-py2.py3-none-any.whl (77 kB)\n",
      "\u001b[?25l\r",
      "\u001b[K     |████▎                           | 10 kB 23.2 MB/s eta 0:00:01\r",
      "\u001b[K     |████████▌                       | 20 kB 27.4 MB/s eta 0:00:01\r",
      "\u001b[K     |████████████▊                   | 30 kB 13.9 MB/s eta 0:00:01\r",
      "\u001b[K     |█████████████████               | 40 kB 11.1 MB/s eta 0:00:01\r",
      "\u001b[K     |█████████████████████▏          | 51 kB 7.9 MB/s eta 0:00:01\r",
      "\u001b[K     |█████████████████████████▍      | 61 kB 8.5 MB/s eta 0:00:01\r",
      "\u001b[K     |█████████████████████████████▋  | 71 kB 8.2 MB/s eta 0:00:01\r",
      "\u001b[K     |████████████████████████████████| 77 kB 4.3 MB/s \n",
      "\u001b[?25hInstalling collected packages: patool\n",
      "Successfully installed patool-1.12\n"
     ]
    }
   ],
   "source": [
    "!pip install patool"
   ]
  },
  {
   "cell_type": "code",
   "execution_count": null,
   "metadata": {
    "colab": {
     "base_uri": "https://localhost:8080/",
     "height": 88
    },
    "executionInfo": {
     "elapsed": 16011,
     "status": "ok",
     "timestamp": 1643514560477,
     "user": {
      "displayName": "devdatta trainings",
      "photoUrl": "https://lh3.googleusercontent.com/a/default-user=s64",
      "userId": "16964738642897968134"
     },
     "user_tz": -330
    },
    "id": "Q3G4ksoVGMIb",
    "outputId": "a0db4030-1bab-4955-8cde-1d272c2923f3"
   },
   "outputs": [
    {
     "name": "stdout",
     "output_type": "stream",
     "text": [
      "patool: Extracting dataset.zip ...\n",
      "patool: running /usr/bin/7z x -o./Unpack_92ls63xa -- dataset.zip\n",
      "patool: ... dataset.zip extracted to `dataset' (multiple files in root).\n"
     ]
    },
    {
     "data": {
      "application/vnd.google.colaboratory.intrinsic+json": {
       "type": "string"
      },
      "text/plain": [
       "'dataset'"
      ]
     },
     "execution_count": 7,
     "metadata": {},
     "output_type": "execute_result"
    }
   ],
   "source": [
    "# take longer time to run\n",
    "import patoolib\n",
    "patoolib.extract_archive(\"dataset.zip\")"
   ]
  },
  {
   "cell_type": "code",
   "execution_count": null,
   "metadata": {
    "colab": {
     "base_uri": "https://localhost:8080/"
    },
    "executionInfo": {
     "elapsed": 530,
     "status": "ok",
     "timestamp": 1643518631716,
     "user": {
      "displayName": "devdatta trainings",
      "photoUrl": "https://lh3.googleusercontent.com/a/default-user=s64",
      "userId": "16964738642897968134"
     },
     "user_tz": -330
    },
    "id": "KshSO6IfGWtc",
    "outputId": "6d1bc8b3-e822-421c-cb0c-e2587c500abd"
   },
   "outputs": [
    {
     "data": {
      "text/plain": [
       "['dataset/normal/1.jpg',\n",
       " 'dataset/normal/10.jpg',\n",
       " 'dataset/normal/100.jpg',\n",
       " 'dataset/normal/101.jpg',\n",
       " 'dataset/normal/102.jpg',\n",
       " 'dataset/normal/103.jpg',\n",
       " 'dataset/normal/104.jpg',\n",
       " 'dataset/normal/105.jpg',\n",
       " 'dataset/normal/106.jpg',\n",
       " 'dataset/normal/107.jpg']"
      ]
     },
     "execution_count": 4,
     "metadata": {},
     "output_type": "execute_result"
    }
   ],
   "source": [
    "# print few sample image paths\n",
    "imagePaths = sorted(list(paths.list_images(\"dataset\")))\n",
    "imagePaths[:10]"
   ]
  },
  {
   "cell_type": "code",
   "execution_count": null,
   "metadata": {
    "colab": {
     "base_uri": "https://localhost:8080/",
     "height": 66,
     "referenced_widgets": [
      "b8169bf73a0d4d5eb7b1a9c47aa6086f",
      "37ee69c6df24476a8ceb31ae20f58b2e",
      "59dd811ab6a84130821ef98d7cc15d62",
      "1592a748a0b246c183e9df05298786c9",
      "d4487b2285f545579cbab4b9fcaa9aea",
      "a328a6b1c91b4d998d91c0c87b015096",
      "b45f7fddff1346fd81c0744d4e9d57ff",
      "6ba32c2c89c344afa525be3585555df6",
      "b9080acce2654a1abd18e904ebbf84e4",
      "445e78023a5d4afabd4e5a2742d636d6",
      "eec212c3da674881be3783caf7120afc"
     ]
    },
    "executionInfo": {
     "elapsed": 19222,
     "status": "ok",
     "timestamp": 1643518660361,
     "user": {
      "displayName": "devdatta trainings",
      "photoUrl": "https://lh3.googleusercontent.com/a/default-user=s64",
      "userId": "16964738642897968134"
     },
     "user_tz": -330
    },
    "id": "saGn3r64IlpY",
    "outputId": "4df5e973-7152-4699-9462-a3dc5c0af768"
   },
   "outputs": [
    {
     "name": "stdout",
     "output_type": "stream",
     "text": [
      "[INFO] loading images...\n"
     ]
    },
    {
     "data": {
      "application/vnd.jupyter.widget-view+json": {
       "model_id": "b8169bf73a0d4d5eb7b1a9c47aa6086f",
       "version_major": 2,
       "version_minor": 0
      },
      "text/plain": [
       "  0%|          | 0/681 [00:00<?, ?it/s]"
      ]
     },
     "metadata": {},
     "output_type": "display_data"
    }
   ],
   "source": [
    "# initialize the data and labels\n",
    "print(\"[INFO] loading images...\")\n",
    "data = []\n",
    "labels = []\n",
    "\n",
    "# grab the image paths and randomly shuffle them\n",
    "imagePaths = sorted(list(paths.list_images(\"dataset\")))\n",
    "random.seed(42)\n",
    "random.shuffle(imagePaths)\n",
    "\n",
    "# progress bar \n",
    "with tqdm(total=len(imagePaths)) as pbar:\n",
    "    \n",
    "    # loop over the input images\n",
    "    for idx, imagePath in enumerate(imagePaths):\n",
    "        # load the image, pre-process it, and store it in the data list\n",
    "        try:\n",
    "            image = cv2.imread(imagePath)\n",
    "            image = cv2.resize(image, (28, 28))\n",
    "        except :\n",
    "            continue\n",
    "        image = img_to_array(image)\n",
    "        data.append(image)\n",
    "\n",
    "        # extract the class label from the image path and update the\n",
    "        # labels list\n",
    "        label = imagePath.split(os.path.sep)[-2]\n",
    "\n",
    "        \n",
    "\n",
    "        if label == \"normal\":\n",
    "            label = 0\n",
    "        elif label == \"potholes\":\n",
    "            label = 1\n",
    "        \n",
    "        # print(\"pr: \", label)\t\n",
    "\n",
    "        labels.append(label)\n",
    "        \n",
    "        # update the progressbar\n",
    "        pbar.update(1)"
   ]
  },
  {
   "cell_type": "code",
   "execution_count": null,
   "metadata": {
    "colab": {
     "base_uri": "https://localhost:8080/"
    },
    "executionInfo": {
     "elapsed": 402,
     "status": "ok",
     "timestamp": 1643518664715,
     "user": {
      "displayName": "devdatta trainings",
      "photoUrl": "https://lh3.googleusercontent.com/a/default-user=s64",
      "userId": "16964738642897968134"
     },
     "user_tz": -330
    },
    "id": "57x9l8vpIzJP",
    "outputId": "3795551e-8e4e-4fd5-9f3f-1fc88399205e"
   },
   "outputs": [
    {
     "name": "stdout",
     "output_type": "stream",
     "text": [
      "680\n",
      "680\n"
     ]
    }
   ],
   "source": [
    "print(len(data))\n",
    "print(len(labels))"
   ]
  },
  {
   "cell_type": "code",
   "execution_count": null,
   "metadata": {
    "colab": {
     "base_uri": "https://localhost:8080/"
    },
    "executionInfo": {
     "elapsed": 5,
     "status": "ok",
     "timestamp": 1643518666380,
     "user": {
      "displayName": "devdatta trainings",
      "photoUrl": "https://lh3.googleusercontent.com/a/default-user=s64",
      "userId": "16964738642897968134"
     },
     "user_tz": -330
    },
    "id": "lkwkp8coJBNn",
    "outputId": "5f181be7-ca6c-4ee5-e6cf-7fe5d6f78a16"
   },
   "outputs": [
    {
     "data": {
      "text/plain": [
       "(28, 28, 3)"
      ]
     },
     "execution_count": 7,
     "metadata": {},
     "output_type": "execute_result"
    }
   ],
   "source": [
    "data[0].shape"
   ]
  },
  {
   "cell_type": "code",
   "execution_count": null,
   "metadata": {
    "id": "vP-GNIvyM9Uz"
   },
   "outputs": [],
   "source": [
    "x_images = np.array(data, dtype=\"float\") / 255.0\n",
    "y_labels = np.array(labels)"
   ]
  },
  {
   "cell_type": "code",
   "execution_count": null,
   "metadata": {
    "colab": {
     "base_uri": "https://localhost:8080/"
    },
    "executionInfo": {
     "elapsed": 3,
     "status": "ok",
     "timestamp": 1643518671138,
     "user": {
      "displayName": "devdatta trainings",
      "photoUrl": "https://lh3.googleusercontent.com/a/default-user=s64",
      "userId": "16964738642897968134"
     },
     "user_tz": -330
    },
    "id": "fmL1iNxiN9bE",
    "outputId": "8ba14440-2cf7-4660-e5bb-a52ecfeea670"
   },
   "outputs": [
    {
     "data": {
      "text/plain": [
       "680"
      ]
     },
     "execution_count": 9,
     "metadata": {},
     "output_type": "execute_result"
    }
   ],
   "source": [
    "len(x_images)"
   ]
  },
  {
   "cell_type": "code",
   "execution_count": null,
   "metadata": {
    "colab": {
     "base_uri": "https://localhost:8080/"
    },
    "executionInfo": {
     "elapsed": 442,
     "status": "ok",
     "timestamp": 1643518674404,
     "user": {
      "displayName": "devdatta trainings",
      "photoUrl": "https://lh3.googleusercontent.com/a/default-user=s64",
      "userId": "16964738642897968134"
     },
     "user_tz": -330
    },
    "id": "p9d7geqEM9ME",
    "outputId": "229d9365-f929-4c46-e1ca-60607473b549"
   },
   "outputs": [
    {
     "data": {
      "text/plain": [
       "(680, 28, 28, 3)"
      ]
     },
     "execution_count": 10,
     "metadata": {},
     "output_type": "execute_result"
    }
   ],
   "source": [
    "x_images =x_images.reshape(len(x_images),28,28,3)\n",
    "x_images.shape"
   ]
  },
  {
   "cell_type": "markdown",
   "metadata": {
    "id": "mZRczqQ2JeCy"
   },
   "source": [
    "# Model Buildings "
   ]
  },
  {
   "cell_type": "code",
   "execution_count": null,
   "metadata": {
    "id": "fuXuaMzsJdYu"
   },
   "outputs": [],
   "source": [
    "def build_model(hp):  \n",
    "  model = Sequential([\n",
    "    Conv2D(\n",
    "        filters=hp.Int('conv_1_filter', min_value=32, max_value=128, step=16),\n",
    "        kernel_size=hp.Choice('conv_1_kernel', values = [3,5]),\n",
    "        activation='relu',\n",
    "        input_shape=(28,28,3)\n",
    "    ),\n",
    "\n",
    "    # MaxPooling2D(pool_size=(2, 2), strides=(2, 2)),\n",
    "\n",
    "    # Conv2D(\n",
    "    #     filters=hp.Int('conv_2_filter', min_value=32, max_value=64, step=16),\n",
    "    #     kernel_size=hp.Choice('conv_2_kernel', values = [3,5]),\n",
    "    #     activation='relu'\n",
    "    # ),\n",
    "\n",
    "    # Conv2D(\n",
    "    #     filters=hp.Int('conv_3_filter', min_value=32, max_value=64, step=16),\n",
    "    #     kernel_size=hp.Choice('conv_3_kernel', values = [3,5]),\n",
    "    #     activation='relu'\n",
    "    # ),\n",
    "\n",
    "    # MaxPooling2D(pool_size=(2, 2), strides=(2, 2)),\n",
    "\n",
    "    Flatten(),\n",
    "    \n",
    "    Dense(\n",
    "        units=hp.Int('dense_1_units', min_value=32, max_value=128, step=16),\n",
    "        activation='relu'\n",
    "    ),\n",
    "\n",
    "    # Dense(\n",
    "    #     units=hp.Int('dense_2_units', min_value=32, max_value=128, step=16),\n",
    "    #     activation='relu'\n",
    "    # ),\n",
    "\n",
    "    # Dense(\n",
    "    #     units=hp.Int('dense_3_units', min_value=32, max_value=128, step=16),\n",
    "    #     activation='relu'\n",
    "    # ),\n",
    "\n",
    "    Dense(2, activation='softmax')\n",
    "  ])\n",
    "  \n",
    "  model.compile(optimizer=Adam(hp.Choice('learning_rate', values=[1e-2, 1e-3])),\n",
    "              loss='sparse_categorical_crossentropy',\n",
    "              metrics=['accuracy'])\n",
    "  \n",
    "  return model"
   ]
  },
  {
   "cell_type": "code",
   "execution_count": null,
   "metadata": {
    "id": "cnWRf3Y_JMJX"
   },
   "outputs": [],
   "source": [
    "tuner_search=RandomSearch(build_model,\n",
    "                          objective='accuracy',\n",
    "                          max_trials=5,directory='output',project_name=\"Potholes_Detection\")"
   ]
  },
  {
   "cell_type": "code",
   "execution_count": null,
   "metadata": {
    "colab": {
     "base_uri": "https://localhost:8080/"
    },
    "executionInfo": {
     "elapsed": 44841,
     "status": "ok",
     "timestamp": 1643518728978,
     "user": {
      "displayName": "devdatta trainings",
      "photoUrl": "https://lh3.googleusercontent.com/a/default-user=s64",
      "userId": "16964738642897968134"
     },
     "user_tz": -330
    },
    "id": "3dfh_b2zM6QO",
    "outputId": "53d6cd0d-f6ef-43a5-91d1-32d5bbe735fb"
   },
   "outputs": [
    {
     "name": "stdout",
     "output_type": "stream",
     "text": [
      "Trial 5 Complete [00h 00m 05s]\n",
      "accuracy: 0.9191176295280457\n",
      "\n",
      "Best accuracy So Far: 0.966911792755127\n",
      "Total elapsed time: 00h 00m 44s\n",
      "INFO:tensorflow:Oracle triggered exit\n"
     ]
    }
   ],
   "source": [
    "tuner_search.search(x_images,y_labels,epochs=5,validation_split=0.2)"
   ]
  },
  {
   "cell_type": "code",
   "execution_count": null,
   "metadata": {
    "id": "oFkEVaRbNOis"
   },
   "outputs": [],
   "source": [
    "model=tuner_search.get_best_models(num_models=1)[0]"
   ]
  },
  {
   "cell_type": "code",
   "execution_count": null,
   "metadata": {
    "colab": {
     "base_uri": "https://localhost:8080/"
    },
    "executionInfo": {
     "elapsed": 3,
     "status": "ok",
     "timestamp": 1643518737411,
     "user": {
      "displayName": "devdatta trainings",
      "photoUrl": "https://lh3.googleusercontent.com/a/default-user=s64",
      "userId": "16964738642897968134"
     },
     "user_tz": -330
    },
    "id": "QIVYomXeO53h",
    "outputId": "55fc853e-5e6c-4234-dda3-9cce5d34e6ce"
   },
   "outputs": [
    {
     "name": "stdout",
     "output_type": "stream",
     "text": [
      "Model: \"sequential\"\n",
      "_________________________________________________________________\n",
      " Layer (type)                Output Shape              Param #   \n",
      "=================================================================\n",
      " conv2d (Conv2D)             (None, 26, 26, 48)        1344      \n",
      "                                                                 \n",
      " flatten (Flatten)           (None, 32448)             0         \n",
      "                                                                 \n",
      " dense (Dense)               (None, 64)                2076736   \n",
      "                                                                 \n",
      " dense_1 (Dense)             (None, 10)                650       \n",
      "                                                                 \n",
      "=================================================================\n",
      "Total params: 2,078,730\n",
      "Trainable params: 2,078,730\n",
      "Non-trainable params: 0\n",
      "_________________________________________________________________\n"
     ]
    }
   ],
   "source": [
    "model.summary()"
   ]
  },
  {
   "cell_type": "code",
   "execution_count": null,
   "metadata": {
    "id": "nrtO5GCcO8MS"
   },
   "outputs": [],
   "source": [
    "data = np.array(data, dtype=\"float\") / 255.0\n",
    "labels = np.array(labels)"
   ]
  },
  {
   "cell_type": "code",
   "execution_count": null,
   "metadata": {
    "id": "I8RWimrUWkOF"
   },
   "outputs": [],
   "source": [
    "(trainX, testX, trainY, testY) = train_test_split(data, labels, test_size=0.25, random_state=42)"
   ]
  },
  {
   "cell_type": "code",
   "execution_count": null,
   "metadata": {
    "colab": {
     "base_uri": "https://localhost:8080/"
    },
    "executionInfo": {
     "elapsed": 394,
     "status": "ok",
     "timestamp": 1643518787880,
     "user": {
      "displayName": "devdatta trainings",
      "photoUrl": "https://lh3.googleusercontent.com/a/default-user=s64",
      "userId": "16964738642897968134"
     },
     "user_tz": -330
    },
    "id": "9-ESorI6WmaN",
    "outputId": "7822c62c-2d24-42f4-db87-149bd4c891b5"
   },
   "outputs": [
    {
     "data": {
      "text/plain": [
       "(510, 28, 28, 3)"
      ]
     },
     "execution_count": 18,
     "metadata": {},
     "output_type": "execute_result"
    }
   ],
   "source": [
    "trainX.shape"
   ]
  },
  {
   "cell_type": "code",
   "execution_count": null,
   "metadata": {
    "colab": {
     "base_uri": "https://localhost:8080/"
    },
    "executionInfo": {
     "elapsed": 458,
     "status": "ok",
     "timestamp": 1643518794997,
     "user": {
      "displayName": "devdatta trainings",
      "photoUrl": "https://lh3.googleusercontent.com/a/default-user=s64",
      "userId": "16964738642897968134"
     },
     "user_tz": -330
    },
    "id": "i6_kMcYUWnu0",
    "outputId": "fddebde5-089f-4e51-e245-0d9dbbba38c8"
   },
   "outputs": [
    {
     "data": {
      "text/plain": [
       "(510,)"
      ]
     },
     "execution_count": 19,
     "metadata": {},
     "output_type": "execute_result"
    }
   ],
   "source": [
    "trainY.shape"
   ]
  },
  {
   "cell_type": "code",
   "execution_count": null,
   "metadata": {
    "id": "PS-YLKrlWpdM"
   },
   "outputs": [],
   "source": [
    "# construct the image generator for data augmentation\n",
    "aug = ImageDataGenerator(rotation_range=30, \n",
    "                         width_shift_range=0.1, \n",
    "                         height_shift_range=0.1, \n",
    "                         shear_range=0.2, \n",
    "                         zoom_range=0.2, \n",
    "                         horizontal_flip=True, \n",
    "                         fill_mode=\"nearest\")"
   ]
  },
  {
   "cell_type": "code",
   "execution_count": null,
   "metadata": {
    "id": "0hFaNTocXXMs"
   },
   "outputs": [],
   "source": []
  },
  {
   "cell_type": "code",
   "execution_count": null,
   "metadata": {
    "colab": {
     "base_uri": "https://localhost:8080/"
    },
    "executionInfo": {
     "elapsed": 25303,
     "status": "ok",
     "timestamp": 1643519056044,
     "user": {
      "displayName": "devdatta trainings",
      "photoUrl": "https://lh3.googleusercontent.com/a/default-user=s64",
      "userId": "16964738642897968134"
     },
     "user_tz": -330
    },
    "id": "1F7d6FsHW4bk",
    "outputId": "c692d656-e0b0-42da-8a26-afa00fc2909c"
   },
   "outputs": [
    {
     "name": "stdout",
     "output_type": "stream",
     "text": [
      "[INFO] training network...\n",
      "Epoch 1/25\n",
      "15/15 [==============================] - 2s 70ms/step - loss: 0.3604 - accuracy: 0.8347 - val_loss: 0.1208 - val_accuracy: 0.9706\n",
      "Epoch 2/25\n",
      "15/15 [==============================] - 1s 47ms/step - loss: 0.3261 - accuracy: 0.8625 - val_loss: 0.2364 - val_accuracy: 0.8941\n",
      "Epoch 3/25\n",
      "15/15 [==============================] - 1s 47ms/step - loss: 0.3216 - accuracy: 0.8473 - val_loss: 0.1090 - val_accuracy: 0.9706\n",
      "Epoch 4/25\n",
      "15/15 [==============================] - 1s 46ms/step - loss: 0.2910 - accuracy: 0.8787 - val_loss: 0.1004 - val_accuracy: 0.9647\n",
      "Epoch 5/25\n",
      "15/15 [==============================] - 1s 47ms/step - loss: 0.2920 - accuracy: 0.8766 - val_loss: 0.1134 - val_accuracy: 0.9765\n",
      "Epoch 6/25\n",
      "15/15 [==============================] - 1s 48ms/step - loss: 0.3048 - accuracy: 0.8661 - val_loss: 0.1228 - val_accuracy: 0.9647\n",
      "Epoch 7/25\n",
      "15/15 [==============================] - 1s 47ms/step - loss: 0.2814 - accuracy: 0.8766 - val_loss: 0.1588 - val_accuracy: 0.9529\n",
      "Epoch 8/25\n",
      "15/15 [==============================] - 1s 46ms/step - loss: 0.2690 - accuracy: 0.8813 - val_loss: 0.1243 - val_accuracy: 0.9647\n",
      "Epoch 9/25\n",
      "15/15 [==============================] - 1s 48ms/step - loss: 0.2150 - accuracy: 0.9163 - val_loss: 0.1104 - val_accuracy: 0.9588\n",
      "Epoch 10/25\n",
      "15/15 [==============================] - 1s 48ms/step - loss: 0.2391 - accuracy: 0.8954 - val_loss: 0.2766 - val_accuracy: 0.8647\n",
      "Epoch 11/25\n",
      "15/15 [==============================] - 1s 46ms/step - loss: 0.2586 - accuracy: 0.9017 - val_loss: 0.1538 - val_accuracy: 0.9471\n",
      "Epoch 12/25\n",
      "15/15 [==============================] - 1s 46ms/step - loss: 0.2509 - accuracy: 0.8954 - val_loss: 0.1403 - val_accuracy: 0.9412\n",
      "Epoch 13/25\n",
      "15/15 [==============================] - 1s 48ms/step - loss: 0.2446 - accuracy: 0.9062 - val_loss: 0.1291 - val_accuracy: 0.9588\n",
      "Epoch 14/25\n",
      "15/15 [==============================] - 1s 46ms/step - loss: 0.2287 - accuracy: 0.9079 - val_loss: 0.1523 - val_accuracy: 0.9412\n",
      "Epoch 15/25\n",
      "15/15 [==============================] - 1s 47ms/step - loss: 0.2429 - accuracy: 0.9059 - val_loss: 0.1285 - val_accuracy: 0.9529\n",
      "Epoch 16/25\n",
      "15/15 [==============================] - 1s 46ms/step - loss: 0.2331 - accuracy: 0.9017 - val_loss: 0.1340 - val_accuracy: 0.9647\n",
      "Epoch 17/25\n",
      "15/15 [==============================] - 1s 47ms/step - loss: 0.2208 - accuracy: 0.9079 - val_loss: 0.1433 - val_accuracy: 0.9588\n",
      "Epoch 18/25\n",
      "15/15 [==============================] - 1s 46ms/step - loss: 0.2724 - accuracy: 0.8766 - val_loss: 0.1590 - val_accuracy: 0.9412\n",
      "Epoch 19/25\n",
      "15/15 [==============================] - 1s 47ms/step - loss: 0.2471 - accuracy: 0.8996 - val_loss: 0.1341 - val_accuracy: 0.9529\n",
      "Epoch 20/25\n",
      "15/15 [==============================] - 1s 46ms/step - loss: 0.2003 - accuracy: 0.9226 - val_loss: 0.2629 - val_accuracy: 0.8941\n",
      "Epoch 21/25\n",
      "15/15 [==============================] - 1s 46ms/step - loss: 0.2725 - accuracy: 0.8975 - val_loss: 0.1843 - val_accuracy: 0.9294\n",
      "Epoch 22/25\n",
      "15/15 [==============================] - 1s 46ms/step - loss: 0.3031 - accuracy: 0.8808 - val_loss: 0.1500 - val_accuracy: 0.9647\n",
      "Epoch 23/25\n",
      "15/15 [==============================] - 1s 47ms/step - loss: 0.2600 - accuracy: 0.8912 - val_loss: 0.1466 - val_accuracy: 0.9588\n",
      "Epoch 24/25\n",
      "15/15 [==============================] - 1s 46ms/step - loss: 0.2126 - accuracy: 0.9121 - val_loss: 0.1700 - val_accuracy: 0.9471\n",
      "Epoch 25/25\n",
      "15/15 [==============================] - 1s 46ms/step - loss: 0.2387 - accuracy: 0.8933 - val_loss: 0.2027 - val_accuracy: 0.9412\n"
     ]
    }
   ],
   "source": [
    "\n",
    "EPOCHS = 25\n",
    "BS = 32\n",
    "# train the network\n",
    "print(\"[INFO] training network...\")\n",
    "H = model.fit(x=aug.flow(trainX, trainY, batch_size=BS),\n",
    "              validation_data=(testX, testY), \n",
    "              steps_per_epoch=len(trainX) // BS,\n",
    "              epochs=EPOCHS, \n",
    "              verbose=1)"
   ]
  },
  {
   "cell_type": "code",
   "execution_count": null,
   "metadata": {
    "colab": {
     "base_uri": "https://localhost:8080/",
     "height": 517
    },
    "executionInfo": {
     "elapsed": 1482,
     "status": "ok",
     "timestamp": 1643519098045,
     "user": {
      "displayName": "devdatta trainings",
      "photoUrl": "https://lh3.googleusercontent.com/a/default-user=s64",
      "userId": "16964738642897968134"
     },
     "user_tz": -330
    },
    "id": "FXIBhaiwXjKr",
    "outputId": "ac32ea50-5812-4965-c181-8c8be96a6553"
   },
   "outputs": [
    {
     "data": {
      "image/png": "[encoded data removed]",
      "text/plain": [
       "<Figure size 720x576 with 1 Axes>"
      ]
     },
     "metadata": {},
     "output_type": "display_data"
    }
   ],
   "source": [
    "# plot the training and validation accuracy\n",
    "N = np.arange(0, EPOCHS)\n",
    "plt.style.use(\"ggplot\")\n",
    "plt.figure(figsize = [10,8])\n",
    "plt.plot(N, H.history[\"accuracy\"], label=\"train_acc\")\n",
    "plt.plot(N, H.history[\"val_accuracy\"], label=\"val_acc\")\n",
    "plt.title(\"CNN: Training and Validation Accuracy\")\n",
    "plt.xlabel(\"Epoch #\", weight=\"bold\")\n",
    "plt.ylabel(\"Accuracy\", weight=\"bold\")\n",
    "plt.legend()\n",
    "plt.show()"
   ]
  },
  {
   "cell_type": "code",
   "execution_count": null,
   "metadata": {
    "colab": {
     "base_uri": "https://localhost:8080/",
     "height": 517
    },
    "executionInfo": {
     "elapsed": 1233,
     "status": "ok",
     "timestamp": 1643519117200,
     "user": {
      "displayName": "devdatta trainings",
      "photoUrl": "https://lh3.googleusercontent.com/a/default-user=s64",
      "userId": "16964738642897968134"
     },
     "user_tz": -330
    },
    "id": "JOKroKumXzLV",
    "outputId": "9837cb56-3936-4386-8aa0-3bef632cc289"
   },
   "outputs": [
    {
     "data": {
      "image/png": "[encoded data removed]",
      "text/plain": [
       "<Figure size 720x576 with 1 Axes>"
      ]
     },
     "metadata": {},
     "output_type": "display_data"
    }
   ],
   "source": [
    "# plot the training and validation loss\n",
    "N = np.arange(0, EPOCHS)\n",
    "plt.style.use(\"ggplot\")\n",
    "plt.figure(figsize = [10,8])\n",
    "plt.plot(N, H.history[\"loss\"], label=\"train_loss\")\n",
    "plt.plot(N, H.history[\"val_loss\"], label=\"val_loss\")\n",
    "plt.title(\"CNN: Training & Validation Loss\")\n",
    "plt.xlabel(\"Epoch #\", weight=\"bold\")\n",
    "plt.ylabel(\"Loss\", weight=\"bold\")\n",
    "plt.legend()\n",
    "plt.show()"
   ]
  },
  {
   "cell_type": "markdown",
   "metadata": {
    "id": "vqg7L7CNYyAc"
   },
   "source": [
    "# Model 3"
   ]
  },
  {
   "cell_type": "code",
   "execution_count": null,
   "metadata": {
    "id": "mrXwtCAgX34r"
   },
   "outputs": [],
   "source": [
    "def model_1(width, height, depth, classes):\n",
    "    # initialize the model\n",
    "    model = Sequential()\n",
    "    inputShape = (height, width, depth) # (h, h, chanel)\n",
    "\n",
    "    # if we are using \"channels first\", update the input shape\n",
    "    if K.image_data_format() == \"channels_first\":\n",
    "        inputShape = (depth, height, width)\n",
    "\n",
    "    # first set of CONV => RELU => POOL layers\n",
    "    model.add(Conv2D(20, (5, 5), padding=\"same\",input_shape=inputShape))\n",
    "    model.add(Activation(\"relu\"))\n",
    "    model.add(MaxPooling2D(pool_size=(2, 2), strides=(2, 2)))\n",
    "\n",
    "    # second set of CONV => RELU => POOL layers\n",
    "    model.add(Conv2D(50, (5, 5), padding=\"same\"))\n",
    "    model.add(Activation(\"relu\"))\n",
    "    model.add(MaxPooling2D(pool_size=(2, 2), strides=(2, 2)))\n",
    "\n",
    "    # first (and only) set of FC => RELU layers\n",
    "    model.add(Flatten())\n",
    "    model.add(Dense(500))\n",
    "    model.add(Activation(\"relu\"))\n",
    "\n",
    "    # softmax classifier\n",
    "    model.add(Dense(classes))\n",
    "    model.add(Activation(\"softmax\"))\n",
    "\n",
    "    # return the constructed network architecture\n",
    "    return model"
   ]
  },
  {
   "cell_type": "code",
   "execution_count": null,
   "metadata": {
    "colab": {
     "base_uri": "https://localhost:8080/"
    },
    "executionInfo": {
     "elapsed": 398,
     "status": "ok",
     "timestamp": 1643520601026,
     "user": {
      "displayName": "devdatta trainings",
      "photoUrl": "https://lh3.googleusercontent.com/a/default-user=s64",
      "userId": "16964738642897968134"
     },
     "user_tz": -330
    },
    "id": "1jS7-R55YJoN",
    "outputId": "f58cee09-d469-496c-dd45-97af66798618"
   },
   "outputs": [
    {
     "name": "stdout",
     "output_type": "stream",
     "text": [
      "[INFO] compiling model...\n",
      "[INFO] model complied...\n"
     ]
    }
   ],
   "source": [
    "# initialize the model\n",
    "print(\"[INFO] compiling model...\")\n",
    "model1 = model_1(width=28, height=28, depth=3, classes=2)\n",
    "EPOCHS = 10\n",
    "INIT_LR = 1e-3\n",
    "BS = 32\n",
    "opt = Adam(lr=INIT_LR, decay=INIT_LR / EPOCHS)\n",
    "model1.compile(loss=\"sparse_categorical_crossentropy\", optimizer=opt, metrics=[\"accuracy\"])\n",
    "\n",
    "print(\"[INFO] model complied...\")"
   ]
  },
  {
   "cell_type": "code",
   "execution_count": null,
   "metadata": {
    "colab": {
     "base_uri": "https://localhost:8080/"
    },
    "executionInfo": {
     "elapsed": 9,
     "status": "ok",
     "timestamp": 1643520602574,
     "user": {
      "displayName": "devdatta trainings",
      "photoUrl": "https://lh3.googleusercontent.com/a/default-user=s64",
      "userId": "16964738642897968134"
     },
     "user_tz": -330
    },
    "id": "Nt-9dj5PcWNY",
    "outputId": "a3d35bff-eed9-40a3-ffb6-4f4dd424f290"
   },
   "outputs": [
    {
     "data": {
      "text/plain": [
       "1"
      ]
     },
     "execution_count": 59,
     "metadata": {},
     "output_type": "execute_result"
    }
   ],
   "source": [
    "trainY[0]"
   ]
  },
  {
   "cell_type": "code",
   "execution_count": null,
   "metadata": {
    "colab": {
     "base_uri": "https://localhost:8080/"
    },
    "executionInfo": {
     "elapsed": 22299,
     "status": "ok",
     "timestamp": 1643520625595,
     "user": {
      "displayName": "devdatta trainings",
      "photoUrl": "https://lh3.googleusercontent.com/a/default-user=s64",
      "userId": "16964738642897968134"
     },
     "user_tz": -330
    },
    "id": "oL1a1Z_VYSiu",
    "outputId": "97cb85d8-9e64-4d70-c5bd-eb749a2ae6c6"
   },
   "outputs": [
    {
     "name": "stdout",
     "output_type": "stream",
     "text": [
      "[INFO] training network...\n",
      "Epoch 1/10\n",
      "15/15 [==============================] - 2s 96ms/step - loss: 0.7136 - accuracy: 0.5460 - val_loss: 0.6507 - val_accuracy: 0.5412\n",
      "Epoch 2/10\n",
      "15/15 [==============================] - 1s 85ms/step - loss: 0.5692 - accuracy: 0.7197 - val_loss: 0.4692 - val_accuracy: 0.7412\n",
      "Epoch 3/10\n",
      "15/15 [==============================] - 1s 85ms/step - loss: 0.4403 - accuracy: 0.7887 - val_loss: 0.4062 - val_accuracy: 0.8471\n",
      "Epoch 4/10\n",
      "15/15 [==============================] - 1s 85ms/step - loss: 0.4543 - accuracy: 0.7929 - val_loss: 0.3786 - val_accuracy: 0.8118\n",
      "Epoch 5/10\n",
      "15/15 [==============================] - 1s 85ms/step - loss: 0.3844 - accuracy: 0.8326 - val_loss: 0.2751 - val_accuracy: 0.8824\n",
      "Epoch 6/10\n",
      "15/15 [==============================] - 1s 85ms/step - loss: 0.3647 - accuracy: 0.8347 - val_loss: 0.3500 - val_accuracy: 0.8059\n",
      "Epoch 7/10\n",
      "15/15 [==============================] - 1s 87ms/step - loss: 0.3670 - accuracy: 0.8389 - val_loss: 0.2547 - val_accuracy: 0.9000\n",
      "Epoch 8/10\n",
      "15/15 [==============================] - 1s 86ms/step - loss: 0.3280 - accuracy: 0.8556 - val_loss: 0.2269 - val_accuracy: 0.9353\n",
      "Epoch 9/10\n",
      "15/15 [==============================] - 1s 85ms/step - loss: 0.3004 - accuracy: 0.8745 - val_loss: 0.3343 - val_accuracy: 0.8412\n",
      "Epoch 10/10\n",
      "15/15 [==============================] - 1s 87ms/step - loss: 0.2802 - accuracy: 0.8891 - val_loss: 0.2713 - val_accuracy: 0.9176\n"
     ]
    }
   ],
   "source": [
    "# train the network\n",
    "print(\"[INFO] training network...\")\n",
    "H2 = model1.fit(x=aug.flow(trainX, trainY, batch_size=BS),\n",
    "              validation_data=(testX, testY), \n",
    "              steps_per_epoch=len(trainX) // BS,\n",
    "              epochs=EPOCHS, \n",
    "              verbose=1)"
   ]
  },
  {
   "cell_type": "code",
   "execution_count": null,
   "metadata": {
    "colab": {
     "base_uri": "https://localhost:8080/",
     "height": 517
    },
    "executionInfo": {
     "elapsed": 687,
     "status": "ok",
     "timestamp": 1643520629485,
     "user": {
      "displayName": "devdatta trainings",
      "photoUrl": "https://lh3.googleusercontent.com/a/default-user=s64",
      "userId": "16964738642897968134"
     },
     "user_tz": -330
    },
    "id": "HHDSnh-wYauS",
    "outputId": "e9873059-f5e3-4b78-9b69-ee3d2bfec716"
   },
   "outputs": [
    {
     "data": {
      "image/png": "[encoded data removed]",
      "text/plain": [
       "<Figure size 720x576 with 1 Axes>"
      ]
     },
     "metadata": {},
     "output_type": "display_data"
    }
   ],
   "source": [
    "# plot the training and validation accuracy\n",
    "N = np.arange(0, EPOCHS)\n",
    "plt.style.use(\"ggplot\")\n",
    "plt.figure(figsize = [10,8])\n",
    "plt.plot(N, H2.history[\"accuracy\"], label=\"train_acc\")\n",
    "plt.plot(N, H2.history[\"val_accuracy\"], label=\"val_acc\")\n",
    "plt.title(\"CNN: Training and Validation Accuracy\")\n",
    "plt.xlabel(\"Epoch #\", weight=\"bold\")\n",
    "plt.ylabel(\"Accuracy\", weight=\"bold\")\n",
    "plt.legend()\n",
    "plt.show()"
   ]
  },
  {
   "cell_type": "code",
   "execution_count": null,
   "metadata": {
    "colab": {
     "base_uri": "https://localhost:8080/",
     "height": 517
    },
    "executionInfo": {
     "elapsed": 1332,
     "status": "ok",
     "timestamp": 1643520632486,
     "user": {
      "displayName": "devdatta trainings",
      "photoUrl": "https://lh3.googleusercontent.com/a/default-user=s64",
      "userId": "16964738642897968134"
     },
     "user_tz": -330
    },
    "id": "D47Z-tNnYnyd",
    "outputId": "b357ef16-3662-402e-db7e-f4aba49d5c34"
   },
   "outputs": [
    {
     "data": {
      "image/png": "[encoded data removed]",
      "text/plain": [
       "<Figure size 720x576 with 1 Axes>"
      ]
     },
     "metadata": {},
     "output_type": "display_data"
    }
   ],
   "source": [
    "# plot the training and validation loss\n",
    "N = np.arange(0, EPOCHS)\n",
    "plt.style.use(\"ggplot\")\n",
    "plt.figure(figsize = [10,8])\n",
    "plt.plot(N, H2.history[\"loss\"], label=\"train_loss\")\n",
    "plt.plot(N, H2.history[\"val_loss\"], label=\"val_loss\")\n",
    "plt.title(\"CNN: Training & Validation Loss\")\n",
    "plt.xlabel(\"Epoch #\", weight=\"bold\")\n",
    "plt.ylabel(\"Loss\", weight=\"bold\")\n",
    "plt.legend()\n",
    "plt.show()"
   ]
  },
  {
   "cell_type": "code",
   "execution_count": null,
   "metadata": {
    "id": "K1s42tz_arCC"
   },
   "outputs": [],
   "source": []
  },
  {
   "cell_type": "markdown",
   "metadata": {
    "id": "BWUGstFVZCpq"
   },
   "source": [
    "# inference [homework]"
   ]
  },
  {
   "cell_type": "code",
   "execution_count": null,
   "metadata": {
    "id": "6G78DSdTboI8"
   },
   "outputs": [],
   "source": [
    "from tensorflow.keras.preprocessing.image import img_to_array\n",
    "from tensorflow.keras.models import load_model\n",
    "import numpy as np\n",
    "import argparse\n",
    "import imutils\n",
    "import cv2\n",
    "import matplotlib.pyplot as plt\n",
    "%matplotlib inline"
   ]
  },
  {
   "cell_type": "code",
   "execution_count": null,
   "metadata": {
    "id": "xnWDibuJbxFD"
   },
   "outputs": [],
   "source": [
    "def display_img(img):\n",
    "    fig = plt.figure(figsize=(12,10))\n",
    "    plt.grid(b=None)\n",
    "    ax = fig.add_subplot(111)\n",
    "    ax.imshow(img)"
   ]
  },
  {
   "cell_type": "code",
   "execution_count": null,
   "metadata": {
    "colab": {
     "base_uri": "https://localhost:8080/",
     "height": 170,
     "referenced_widgets": [
      "7f0e38618d824c0f8c7e433b79cbf57e",
      "99e500499cd0409fbcf062ea7ff0f0eb",
      "d849e0e9807f45abb3a45a46af2220be",
      "0cd0f2c33178476b8c14d25ec7ecdf53",
      "2b09f907cba3436b890c2a5002c993f9",
      "5887cd38f0fa4d39aadca4fe97bb0961",
      "77c3d1173a9946249c9a781812bd753f",
      "57d55cfa47814f47a0dbaf7b0357e271",
      "643c5cbd78254179933e918228b1e151",
      "7a288d99643f4d30a04eb487adffc53a",
      "3d979e09daf5494cbc02ccba056ac871"
     ]
    },
    "executionInfo": {
     "elapsed": 14,
     "status": "ok",
     "timestamp": 1643520638319,
     "user": {
      "displayName": "devdatta trainings",
      "photoUrl": "https://lh3.googleusercontent.com/a/default-user=s64",
      "userId": "16964738642897968134"
     },
     "user_tz": -330
    },
    "id": "M-VTU8dpZBey",
    "outputId": "f4aba96c-b172-4c65-8b8a-a4737c45b480"
   },
   "outputs": [
    {
     "name": "stdout",
     "output_type": "stream",
     "text": [
      "[INFO] loading network and...\n"
     ]
    },
    {
     "data": {
      "application/vnd.jupyter.widget-view+json": {
       "model_id": "7f0e38618d824c0f8c7e433b79cbf57e",
       "version_major": 2,
       "version_minor": 0
      },
      "text/plain": [
       "  0%|          | 0/3 [00:00<?, ?it/s]"
      ]
     },
     "metadata": {},
     "output_type": "display_data"
    },
    {
     "name": "stdout",
     "output_type": "stream",
     "text": [
      "2\n",
      "0\n",
      "2\n",
      "1\n",
      "2\n",
      "0\n"
     ]
    }
   ],
   "source": [
    "# import the necessary packages\n",
    "from tensorflow.keras.models import load_model\n",
    "import pickle\n",
    "import cv2\n",
    "\n",
    "# # load the model \n",
    "print(\"[INFO] loading network and...\")\n",
    "# model = load_model(MODEL)\n",
    "\n",
    "# grab the image paths and randomly shuffle themt\n",
    "testImagePaths = sorted(list(paths.list_images('test_images')))   # data folder with 2 categorical folders\n",
    "\n",
    "all_class = [\"potholes\", \"Normal\"]\n",
    "\n",
    "\n",
    "# progress bar \n",
    "with tqdm(total=len(testImagePaths)) as pbar:\n",
    "    \n",
    "    for imagePath in testImagePaths:\n",
    "        \n",
    "        # load the image\n",
    "        image = cv2.imread(imagePath)\n",
    "        orig = image.copy()\n",
    "\n",
    "        # pre-process the image for classification\n",
    "        image = cv2.resize(image, (28, 28))\n",
    "        image = image.astype(\"float\") / 255.0\n",
    "        image = img_to_array(image)\n",
    "        image = np.expand_dims(image, axis=0)\n",
    "\n",
    "        # classify the input image\n",
    "        prd_conf = model1.predict(image)[0]\n",
    "\n",
    "        print(len(prd_conf))\n",
    "        print(np.argmax(prd_conf))\n",
    "        # # build the label\n",
    "        # label = all_class[np.argmax(prd_conf)]\n",
    "        # proba = prd_conf[np.argmax(prd_conf)]\n",
    "\n",
    "        # label = \"{}: {:.2f}%\".format(label, proba * 100)\n",
    "\n",
    "        # # draw the label on the image\n",
    "        # output = imutils.resize(orig, width=400)\n",
    "        # cv2.putText(output, label, (10, 25),  cv2.FONT_HERSHEY_SIMPLEX,\n",
    "        #     0.7, (255, 0, 0), 2)\n",
    "        \n",
    "        # # convert img to rgb format and display in notebook\n",
    "        # img = cv2.cvtColor(output, cv2.COLOR_BGR2RGB)\n",
    "        # display_img(img)\n",
    "        \n",
    "        pbar.update(1)\n"
   ]
  },
  {
   "cell_type": "code",
   "execution_count": null,
   "metadata": {
    "id": "HrI2XR9sYt7y"
   },
   "outputs": [],
   "source": [
    "!pip install gradio"
   ]
  },
  {
   "cell_type": "code",
   "execution_count": null,
   "metadata": {
    "id": "5EcnPOdZY5Yf"
   },
   "outputs": [],
   "source": []
  }
 ],
 "metadata": {
  "accelerator": "GPU",
  "colab": {
   "authorship_tag": "ABX9TyOk1uX84xdiNBZidVjT6st2",
   "collapsed_sections": [],
   "name": "9. Potholes Detection using Optimization.ipynb",
   "provenance": []
  },
  "kernelspec": {
   "display_name": "Python 3 (ipykernel)",
   "language": "python",
   "name": "python3"
  },
  "language_info": {
   "codemirror_mode": {
    "name": "ipython",
    "version": 3
   },
   "file_extension": ".py",
   "mimetype": "text/x-python",
   "name": "python",
   "nbconvert_exporter": "python",
   "pygments_lexer": "ipython3",
   "version": "3.7.6"
  },
  "widgets": {
   "application/vnd.jupyter.widget-state+json": {
    "0cd0f2c33178476b8c14d25ec7ecdf53": {
     "model_module": "@jupyter-widgets/controls",
     "model_module_version": "1.5.0",
     "model_name": "FloatProgressModel",
     "state": {
      "_dom_classes": [],
      "_model_module": "@jupyter-widgets/controls",
      "_model_module_version": "1.5.0",
      "_model_name": "FloatProgressModel",
      "_view_count": null,
      "_view_module": "@jupyter-widgets/controls",
      "_view_module_version": "1.5.0",
      "_view_name": "ProgressView",
      "bar_style": "success",
      "description": "",
      "description_tooltip": null,
      "layout": "IPY_MODEL_643c5cbd78254179933e918228b1e151",
      "max": 3,
      "min": 0,
      "orientation": "horizontal",
      "style": "IPY_MODEL_57d55cfa47814f47a0dbaf7b0357e271",
      "value": 3
     }
    },
    "1592a748a0b246c183e9df05298786c9": {
     "model_module": "@jupyter-widgets/controls",
     "model_module_version": "1.5.0",
     "model_name": "FloatProgressModel",
     "state": {
      "_dom_classes": [],
      "_model_module": "@jupyter-widgets/controls",
      "_model_module_version": "1.5.0",
      "_model_name": "FloatProgressModel",
      "_view_count": null,
      "_view_module": "@jupyter-widgets/controls",
      "_view_module_version": "1.5.0",
      "_view_name": "ProgressView",
      "bar_style": "danger",
      "description": "",
      "description_tooltip": null,
      "layout": "IPY_MODEL_b9080acce2654a1abd18e904ebbf84e4",
      "max": 681,
      "min": 0,
      "orientation": "horizontal",
      "style": "IPY_MODEL_6ba32c2c89c344afa525be3585555df6",
      "value": 680
     }
    },
    "2b09f907cba3436b890c2a5002c993f9": {
     "model_module": "@jupyter-widgets/controls",
     "model_module_version": "1.5.0",
     "model_name": "HTMLModel",
     "state": {
      "_dom_classes": [],
      "_model_module": "@jupyter-widgets/controls",
      "_model_module_version": "1.5.0",
      "_model_name": "HTMLModel",
      "_view_count": null,
      "_view_module": "@jupyter-widgets/controls",
      "_view_module_version": "1.5.0",
      "_view_name": "HTMLView",
      "description": "",
      "description_tooltip": null,
      "layout": "IPY_MODEL_3d979e09daf5494cbc02ccba056ac871",
      "placeholder": "​",
      "style": "IPY_MODEL_7a288d99643f4d30a04eb487adffc53a",
      "value": " 3/3 [00:00&lt;00:00, 12.12it/s]"
     }
    },
    "37ee69c6df24476a8ceb31ae20f58b2e": {
     "model_module": "@jupyter-widgets/base",
     "model_module_version": "1.2.0",
     "model_name": "LayoutModel",
     "state": {
      "_model_module": "@jupyter-widgets/base",
      "_model_module_version": "1.2.0",
      "_model_name": "LayoutModel",
      "_view_count": null,
      "_view_module": "@jupyter-widgets/base",
      "_view_module_version": "1.2.0",
      "_view_name": "LayoutView",
      "align_content": null,
      "align_items": null,
      "align_self": null,
      "border": null,
      "bottom": null,
      "display": null,
      "flex": null,
      "flex_flow": null,
      "grid_area": null,
      "grid_auto_columns": null,
      "grid_auto_flow": null,
      "grid_auto_rows": null,
      "grid_column": null,
      "grid_gap": null,
      "grid_row": null,
      "grid_template_areas": null,
      "grid_template_columns": null,
      "grid_template_rows": null,
      "height": null,
      "justify_content": null,
      "justify_items": null,
      "left": null,
      "margin": null,
      "max_height": null,
      "max_width": null,
      "min_height": null,
      "min_width": null,
      "object_fit": null,
      "object_position": null,
      "order": null,
      "overflow": null,
      "overflow_x": null,
      "overflow_y": null,
      "padding": null,
      "right": null,
      "top": null,
      "visibility": null,
      "width": null
     }
    },
    "3d979e09daf5494cbc02ccba056ac871": {
     "model_module": "@jupyter-widgets/base",
     "model_module_version": "1.2.0",
     "model_name": "LayoutModel",
     "state": {
      "_model_module": "@jupyter-widgets/base",
      "_model_module_version": "1.2.0",
      "_model_name": "LayoutModel",
      "_view_count": null,
      "_view_module": "@jupyter-widgets/base",
      "_view_module_version": "1.2.0",
      "_view_name": "LayoutView",
      "align_content": null,
      "align_items": null,
      "align_self": null,
      "border": null,
      "bottom": null,
      "display": null,
      "flex": null,
      "flex_flow": null,
      "grid_area": null,
      "grid_auto_columns": null,
      "grid_auto_flow": null,
      "grid_auto_rows": null,
      "grid_column": null,
      "grid_gap": null,
      "grid_row": null,
      "grid_template_areas": null,
      "grid_template_columns": null,
      "grid_template_rows": null,
      "height": null,
      "justify_content": null,
      "justify_items": null,
      "left": null,
      "margin": null,
      "max_height": null,
      "max_width": null,
      "min_height": null,
      "min_width": null,
      "object_fit": null,
      "object_position": null,
      "order": null,
      "overflow": null,
      "overflow_x": null,
      "overflow_y": null,
      "padding": null,
      "right": null,
      "top": null,
      "visibility": null,
      "width": null
     }
    },
    "445e78023a5d4afabd4e5a2742d636d6": {
     "model_module": "@jupyter-widgets/controls",
     "model_module_version": "1.5.0",
     "model_name": "DescriptionStyleModel",
     "state": {
      "_model_module": "@jupyter-widgets/controls",
      "_model_module_version": "1.5.0",
      "_model_name": "DescriptionStyleModel",
      "_view_count": null,
      "_view_module": "@jupyter-widgets/base",
      "_view_module_version": "1.2.0",
      "_view_name": "StyleView",
      "description_width": ""
     }
    },
    "57d55cfa47814f47a0dbaf7b0357e271": {
     "model_module": "@jupyter-widgets/controls",
     "model_module_version": "1.5.0",
     "model_name": "ProgressStyleModel",
     "state": {
      "_model_module": "@jupyter-widgets/controls",
      "_model_module_version": "1.5.0",
      "_model_name": "ProgressStyleModel",
      "_view_count": null,
      "_view_module": "@jupyter-widgets/base",
      "_view_module_version": "1.2.0",
      "_view_name": "StyleView",
      "bar_color": null,
      "description_width": ""
     }
    },
    "5887cd38f0fa4d39aadca4fe97bb0961": {
     "model_module": "@jupyter-widgets/controls",
     "model_module_version": "1.5.0",
     "model_name": "DescriptionStyleModel",
     "state": {
      "_model_module": "@jupyter-widgets/controls",
      "_model_module_version": "1.5.0",
      "_model_name": "DescriptionStyleModel",
      "_view_count": null,
      "_view_module": "@jupyter-widgets/base",
      "_view_module_version": "1.2.0",
      "_view_name": "StyleView",
      "description_width": ""
     }
    },
    "59dd811ab6a84130821ef98d7cc15d62": {
     "model_module": "@jupyter-widgets/controls",
     "model_module_version": "1.5.0",
     "model_name": "HTMLModel",
     "state": {
      "_dom_classes": [],
      "_model_module": "@jupyter-widgets/controls",
      "_model_module_version": "1.5.0",
      "_model_name": "HTMLModel",
      "_view_count": null,
      "_view_module": "@jupyter-widgets/controls",
      "_view_module_version": "1.5.0",
      "_view_name": "HTMLView",
      "description": "",
      "description_tooltip": null,
      "layout": "IPY_MODEL_b45f7fddff1346fd81c0744d4e9d57ff",
      "placeholder": "​",
      "style": "IPY_MODEL_a328a6b1c91b4d998d91c0c87b015096",
      "value": "100%"
     }
    },
    "643c5cbd78254179933e918228b1e151": {
     "model_module": "@jupyter-widgets/base",
     "model_module_version": "1.2.0",
     "model_name": "LayoutModel",
     "state": {
      "_model_module": "@jupyter-widgets/base",
      "_model_module_version": "1.2.0",
      "_model_name": "LayoutModel",
      "_view_count": null,
      "_view_module": "@jupyter-widgets/base",
      "_view_module_version": "1.2.0",
      "_view_name": "LayoutView",
      "align_content": null,
      "align_items": null,
      "align_self": null,
      "border": null,
      "bottom": null,
      "display": null,
      "flex": null,
      "flex_flow": null,
      "grid_area": null,
      "grid_auto_columns": null,
      "grid_auto_flow": null,
      "grid_auto_rows": null,
      "grid_column": null,
      "grid_gap": null,
      "grid_row": null,
      "grid_template_areas": null,
      "grid_template_columns": null,
      "grid_template_rows": null,
      "height": null,
      "justify_content": null,
      "justify_items": null,
      "left": null,
      "margin": null,
      "max_height": null,
      "max_width": null,
      "min_height": null,
      "min_width": null,
      "object_fit": null,
      "object_position": null,
      "order": null,
      "overflow": null,
      "overflow_x": null,
      "overflow_y": null,
      "padding": null,
      "right": null,
      "top": null,
      "visibility": null,
      "width": null
     }
    },
    "6ba32c2c89c344afa525be3585555df6": {
     "model_module": "@jupyter-widgets/controls",
     "model_module_version": "1.5.0",
     "model_name": "ProgressStyleModel",
     "state": {
      "_model_module": "@jupyter-widgets/controls",
      "_model_module_version": "1.5.0",
      "_model_name": "ProgressStyleModel",
      "_view_count": null,
      "_view_module": "@jupyter-widgets/base",
      "_view_module_version": "1.2.0",
      "_view_name": "StyleView",
      "bar_color": null,
      "description_width": ""
     }
    },
    "77c3d1173a9946249c9a781812bd753f": {
     "model_module": "@jupyter-widgets/base",
     "model_module_version": "1.2.0",
     "model_name": "LayoutModel",
     "state": {
      "_model_module": "@jupyter-widgets/base",
      "_model_module_version": "1.2.0",
      "_model_name": "LayoutModel",
      "_view_count": null,
      "_view_module": "@jupyter-widgets/base",
      "_view_module_version": "1.2.0",
      "_view_name": "LayoutView",
      "align_content": null,
      "align_items": null,
      "align_self": null,
      "border": null,
      "bottom": null,
      "display": null,
      "flex": null,
      "flex_flow": null,
      "grid_area": null,
      "grid_auto_columns": null,
      "grid_auto_flow": null,
      "grid_auto_rows": null,
      "grid_column": null,
      "grid_gap": null,
      "grid_row": null,
      "grid_template_areas": null,
      "grid_template_columns": null,
      "grid_template_rows": null,
      "height": null,
      "justify_content": null,
      "justify_items": null,
      "left": null,
      "margin": null,
      "max_height": null,
      "max_width": null,
      "min_height": null,
      "min_width": null,
      "object_fit": null,
      "object_position": null,
      "order": null,
      "overflow": null,
      "overflow_x": null,
      "overflow_y": null,
      "padding": null,
      "right": null,
      "top": null,
      "visibility": null,
      "width": null
     }
    },
    "7a288d99643f4d30a04eb487adffc53a": {
     "model_module": "@jupyter-widgets/controls",
     "model_module_version": "1.5.0",
     "model_name": "DescriptionStyleModel",
     "state": {
      "_model_module": "@jupyter-widgets/controls",
      "_model_module_version": "1.5.0",
      "_model_name": "DescriptionStyleModel",
      "_view_count": null,
      "_view_module": "@jupyter-widgets/base",
      "_view_module_version": "1.2.0",
      "_view_name": "StyleView",
      "description_width": ""
     }
    },
    "7f0e38618d824c0f8c7e433b79cbf57e": {
     "model_module": "@jupyter-widgets/controls",
     "model_module_version": "1.5.0",
     "model_name": "HBoxModel",
     "state": {
      "_dom_classes": [],
      "_model_module": "@jupyter-widgets/controls",
      "_model_module_version": "1.5.0",
      "_model_name": "HBoxModel",
      "_view_count": null,
      "_view_module": "@jupyter-widgets/controls",
      "_view_module_version": "1.5.0",
      "_view_name": "HBoxView",
      "box_style": "",
      "children": [
       "IPY_MODEL_d849e0e9807f45abb3a45a46af2220be",
       "IPY_MODEL_0cd0f2c33178476b8c14d25ec7ecdf53",
       "IPY_MODEL_2b09f907cba3436b890c2a5002c993f9"
      ],
      "layout": "IPY_MODEL_99e500499cd0409fbcf062ea7ff0f0eb"
     }
    },
    "99e500499cd0409fbcf062ea7ff0f0eb": {
     "model_module": "@jupyter-widgets/base",
     "model_module_version": "1.2.0",
     "model_name": "LayoutModel",
     "state": {
      "_model_module": "@jupyter-widgets/base",
      "_model_module_version": "1.2.0",
      "_model_name": "LayoutModel",
      "_view_count": null,
      "_view_module": "@jupyter-widgets/base",
      "_view_module_version": "1.2.0",
      "_view_name": "LayoutView",
      "align_content": null,
      "align_items": null,
      "align_self": null,
      "border": null,
      "bottom": null,
      "display": null,
      "flex": null,
      "flex_flow": null,
      "grid_area": null,
      "grid_auto_columns": null,
      "grid_auto_flow": null,
      "grid_auto_rows": null,
      "grid_column": null,
      "grid_gap": null,
      "grid_row": null,
      "grid_template_areas": null,
      "grid_template_columns": null,
      "grid_template_rows": null,
      "height": null,
      "justify_content": null,
      "justify_items": null,
      "left": null,
      "margin": null,
      "max_height": null,
      "max_width": null,
      "min_height": null,
      "min_width": null,
      "object_fit": null,
      "object_position": null,
      "order": null,
      "overflow": null,
      "overflow_x": null,
      "overflow_y": null,
      "padding": null,
      "right": null,
      "top": null,
      "visibility": null,
      "width": null
     }
    },
    "a328a6b1c91b4d998d91c0c87b015096": {
     "model_module": "@jupyter-widgets/controls",
     "model_module_version": "1.5.0",
     "model_name": "DescriptionStyleModel",
     "state": {
      "_model_module": "@jupyter-widgets/controls",
      "_model_module_version": "1.5.0",
      "_model_name": "DescriptionStyleModel",
      "_view_count": null,
      "_view_module": "@jupyter-widgets/base",
      "_view_module_version": "1.2.0",
      "_view_name": "StyleView",
      "description_width": ""
     }
    },
    "b45f7fddff1346fd81c0744d4e9d57ff": {
     "model_module": "@jupyter-widgets/base",
     "model_module_version": "1.2.0",
     "model_name": "LayoutModel",
     "state": {
      "_model_module": "@jupyter-widgets/base",
      "_model_module_version": "1.2.0",
      "_model_name": "LayoutModel",
      "_view_count": null,
      "_view_module": "@jupyter-widgets/base",
      "_view_module_version": "1.2.0",
      "_view_name": "LayoutView",
      "align_content": null,
      "align_items": null,
      "align_self": null,
      "border": null,
      "bottom": null,
      "display": null,
      "flex": null,
      "flex_flow": null,
      "grid_area": null,
      "grid_auto_columns": null,
      "grid_auto_flow": null,
      "grid_auto_rows": null,
      "grid_column": null,
      "grid_gap": null,
      "grid_row": null,
      "grid_template_areas": null,
      "grid_template_columns": null,
      "grid_template_rows": null,
      "height": null,
      "justify_content": null,
      "justify_items": null,
      "left": null,
      "margin": null,
      "max_height": null,
      "max_width": null,
      "min_height": null,
      "min_width": null,
      "object_fit": null,
      "object_position": null,
      "order": null,
      "overflow": null,
      "overflow_x": null,
      "overflow_y": null,
      "padding": null,
      "right": null,
      "top": null,
      "visibility": null,
      "width": null
     }
    },
    "b8169bf73a0d4d5eb7b1a9c47aa6086f": {
     "model_module": "@jupyter-widgets/controls",
     "model_module_version": "1.5.0",
     "model_name": "HBoxModel",
     "state": {
      "_dom_classes": [],
      "_model_module": "@jupyter-widgets/controls",
      "_model_module_version": "1.5.0",
      "_model_name": "HBoxModel",
      "_view_count": null,
      "_view_module": "@jupyter-widgets/controls",
      "_view_module_version": "1.5.0",
      "_view_name": "HBoxView",
      "box_style": "",
      "children": [
       "IPY_MODEL_59dd811ab6a84130821ef98d7cc15d62",
       "IPY_MODEL_1592a748a0b246c183e9df05298786c9",
       "IPY_MODEL_d4487b2285f545579cbab4b9fcaa9aea"
      ],
      "layout": "IPY_MODEL_37ee69c6df24476a8ceb31ae20f58b2e"
     }
    },
    "b9080acce2654a1abd18e904ebbf84e4": {
     "model_module": "@jupyter-widgets/base",
     "model_module_version": "1.2.0",
     "model_name": "LayoutModel",
     "state": {
      "_model_module": "@jupyter-widgets/base",
      "_model_module_version": "1.2.0",
      "_model_name": "LayoutModel",
      "_view_count": null,
      "_view_module": "@jupyter-widgets/base",
      "_view_module_version": "1.2.0",
      "_view_name": "LayoutView",
      "align_content": null,
      "align_items": null,
      "align_self": null,
      "border": null,
      "bottom": null,
      "display": null,
      "flex": null,
      "flex_flow": null,
      "grid_area": null,
      "grid_auto_columns": null,
      "grid_auto_flow": null,
      "grid_auto_rows": null,
      "grid_column": null,
      "grid_gap": null,
      "grid_row": null,
      "grid_template_areas": null,
      "grid_template_columns": null,
      "grid_template_rows": null,
      "height": null,
      "justify_content": null,
      "justify_items": null,
      "left": null,
      "margin": null,
      "max_height": null,
      "max_width": null,
      "min_height": null,
      "min_width": null,
      "object_fit": null,
      "object_position": null,
      "order": null,
      "overflow": null,
      "overflow_x": null,
      "overflow_y": null,
      "padding": null,
      "right": null,
      "top": null,
      "visibility": null,
      "width": null
     }
    },
    "d4487b2285f545579cbab4b9fcaa9aea": {
     "model_module": "@jupyter-widgets/controls",
     "model_module_version": "1.5.0",
     "model_name": "HTMLModel",
     "state": {
      "_dom_classes": [],
      "_model_module": "@jupyter-widgets/controls",
      "_model_module_version": "1.5.0",
      "_model_name": "HTMLModel",
      "_view_count": null,
      "_view_module": "@jupyter-widgets/controls",
      "_view_module_version": "1.5.0",
      "_view_name": "HTMLView",
      "description": "",
      "description_tooltip": null,
      "layout": "IPY_MODEL_eec212c3da674881be3783caf7120afc",
      "placeholder": "​",
      "style": "IPY_MODEL_445e78023a5d4afabd4e5a2742d636d6",
      "value": " 680/681 [00:18&lt;00:00, 41.96it/s]"
     }
    },
    "d849e0e9807f45abb3a45a46af2220be": {
     "model_module": "@jupyter-widgets/controls",
     "model_module_version": "1.5.0",
     "model_name": "HTMLModel",
     "state": {
      "_dom_classes": [],
      "_model_module": "@jupyter-widgets/controls",
      "_model_module_version": "1.5.0",
      "_model_name": "HTMLModel",
      "_view_count": null,
      "_view_module": "@jupyter-widgets/controls",
      "_view_module_version": "1.5.0",
      "_view_name": "HTMLView",
      "description": "",
      "description_tooltip": null,
      "layout": "IPY_MODEL_77c3d1173a9946249c9a781812bd753f",
      "placeholder": "​",
      "style": "IPY_MODEL_5887cd38f0fa4d39aadca4fe97bb0961",
      "value": "100%"
     }
    },
    "eec212c3da674881be3783caf7120afc": {
     "model_module": "@jupyter-widgets/base",
     "model_module_version": "1.2.0",
     "model_name": "LayoutModel",
     "state": {
      "_model_module": "@jupyter-widgets/base",
      "_model_module_version": "1.2.0",
      "_model_name": "LayoutModel",
      "_view_count": null,
      "_view_module": "@jupyter-widgets/base",
      "_view_module_version": "1.2.0",
      "_view_name": "LayoutView",
      "align_content": null,
      "align_items": null,
      "align_self": null,
      "border": null,
      "bottom": null,
      "display": null,
      "flex": null,
      "flex_flow": null,
      "grid_area": null,
      "grid_auto_columns": null,
      "grid_auto_flow": null,
      "grid_auto_rows": null,
      "grid_column": null,
      "grid_gap": null,
      "grid_row": null,
      "grid_template_areas": null,
      "grid_template_columns": null,
      "grid_template_rows": null,
      "height": null,
      "justify_content": null,
      "justify_items": null,
      "left": null,
      "margin": null,
      "max_height": null,
      "max_width": null,
      "min_height": null,
      "min_width": null,
      "object_fit": null,
      "object_position": null,
      "order": null,
      "overflow": null,
      "overflow_x": null,
      "overflow_y": null,
      "padding": null,
      "right": null,
      "top": null,
      "visibility": null,
      "width": null
     }
    }
   }
  }
 },
 "nbformat": 4,
 "nbformat_minor": 1
}
